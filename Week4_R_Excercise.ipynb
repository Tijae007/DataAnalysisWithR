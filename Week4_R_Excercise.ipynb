{
  "nbformat": 4,
  "nbformat_minor": 0,
  "metadata": {
    "colab": {
      "provenance": [],
      "authorship_tag": "ABX9TyPxiqQm/5kMxL7JF4Fy2mRR",
      "include_colab_link": true
    },
    "kernelspec": {
      "name": "ir",
      "display_name": "R"
    },
    "language_info": {
      "name": "R"
    }
  },
  "cells": [
    {
      "cell_type": "markdown",
      "metadata": {
        "id": "view-in-github",
        "colab_type": "text"
      },
      "source": [
        "<a href=\"https://colab.research.google.com/github/Tijae007/DataAnalysisWithR/blob/main/Week4_R_Excercise.ipynb\" target=\"_parent\"><img src=\"https://colab.research.google.com/assets/colab-badge.svg\" alt=\"Open In Colab\"/></a>"
      ]
    },
    {
      "cell_type": "markdown",
      "source": [
        "**Decision Tree Regression**"
      ],
      "metadata": {
        "id": "MhnoakjE35hV"
      }
    },
    {
      "cell_type": "code",
      "execution_count": 1,
      "metadata": {
        "colab": {
          "base_uri": "https://localhost:8080/"
        },
        "id": "KA7OqcSydSuY",
        "outputId": "1a07a8df-4f9b-4f68-a740-34b3ce02b563"
      },
      "outputs": [
        {
          "output_type": "stream",
          "name": "stderr",
          "text": [
            "Installing package into ‘/usr/local/lib/R/site-library’\n",
            "(as ‘lib’ is unspecified)\n",
            "\n"
          ]
        }
      ],
      "source": [
        "#Installing dependencies\n",
        "install.packages(\"readr\")\n",
        "library(readr)\n"
      ]
    },
    {
      "cell_type": "code",
      "source": [
        "# Import the dataset\n",
        "data <- read_csv(\"Position_Salaries.csv\")\n",
        "\n",
        "# Display the first few rows of the dataset\n",
        "print(head(data))\n"
      ],
      "metadata": {
        "colab": {
          "base_uri": "https://localhost:8080/"
        },
        "id": "xLmzs-8ZzmFn",
        "outputId": "17421241-c046-4ca4-fa60-dce1cdd2404e"
      },
      "execution_count": 3,
      "outputs": [
        {
          "output_type": "stream",
          "name": "stderr",
          "text": [
            "\u001b[1mRows: \u001b[22m\u001b[34m10\u001b[39m \u001b[1mColumns: \u001b[22m\u001b[34m3\u001b[39m\n",
            "\u001b[36m──\u001b[39m \u001b[1mColumn specification\u001b[22m \u001b[36m────────────────────────────────────────────────────────\u001b[39m\n",
            "\u001b[1mDelimiter:\u001b[22m \",\"\n",
            "\u001b[31mchr\u001b[39m (1): Position\n",
            "\u001b[32mdbl\u001b[39m (2): Level, Salary\n",
            "\n",
            "\u001b[36mℹ\u001b[39m Use `spec()` to retrieve the full column specification for this data.\n",
            "\u001b[36mℹ\u001b[39m Specify the column types or set `show_col_types = FALSE` to quiet this message.\n"
          ]
        },
        {
          "output_type": "stream",
          "name": "stdout",
          "text": [
            "\u001b[90m# A tibble: 6 × 3\u001b[39m\n",
            "  Position          Level Salary\n",
            "  \u001b[3m\u001b[90m<chr>\u001b[39m\u001b[23m             \u001b[3m\u001b[90m<dbl>\u001b[39m\u001b[23m  \u001b[3m\u001b[90m<dbl>\u001b[39m\u001b[23m\n",
            "\u001b[90m1\u001b[39m Business Analyst      1  \u001b[4m4\u001b[24m\u001b[4m5\u001b[24m000\n",
            "\u001b[90m2\u001b[39m Junior Consultant     2  \u001b[4m5\u001b[24m\u001b[4m0\u001b[24m000\n",
            "\u001b[90m3\u001b[39m Senior Consultant     3  \u001b[4m6\u001b[24m\u001b[4m0\u001b[24m000\n",
            "\u001b[90m4\u001b[39m Manager               4  \u001b[4m8\u001b[24m\u001b[4m0\u001b[24m000\n",
            "\u001b[90m5\u001b[39m Country Manager       5 \u001b[4m1\u001b[24m\u001b[4m1\u001b[24m\u001b[4m0\u001b[24m000\n",
            "\u001b[90m6\u001b[39m Region Manager        6 \u001b[4m1\u001b[24m\u001b[4m5\u001b[24m\u001b[4m0\u001b[24m000\n"
          ]
        }
      ]
    },
    {
      "cell_type": "code",
      "source": [
        "# Install the rpart package if not already installed\n",
        "install.packages(\"rpart\")\n",
        "\n",
        "# Load the necessary packages\n",
        "library(rpart)\n",
        "\n",
        "# # Install and load the rpart.plot package if you want to visualize\n",
        "# install.packages(\"rpart.plot\")\n",
        "# library(rpart.plot)\n",
        "\n",
        "\n",
        "# Fit the Decision Tree Regression model\n",
        "model <- rpart(Salary ~ Level, data = data)\n",
        "\n",
        "# Display the model summary\n",
        "summary(model)\n",
        "\n",
        "\n",
        "# # Plot the decision tree\n",
        "# rpart.plot(model)\n"
      ],
      "metadata": {
        "colab": {
          "base_uri": "https://localhost:8080/"
        },
        "id": "a1VrFfdI0dgy",
        "outputId": "e2b34f4c-8016-4b9e-f96d-5280a49444a7"
      },
      "execution_count": 7,
      "outputs": [
        {
          "output_type": "stream",
          "name": "stderr",
          "text": [
            "Installing package into ‘/usr/local/lib/R/site-library’\n",
            "(as ‘lib’ is unspecified)\n",
            "\n",
            "Installing package into ‘/usr/local/lib/R/site-library’\n",
            "(as ‘lib’ is unspecified)\n",
            "\n"
          ]
        },
        {
          "output_type": "stream",
          "name": "stdout",
          "text": [
            "Call:\n",
            "rpart(formula = Salary ~ Level, data = data)\n",
            "  n= 10 \n",
            "\n",
            "    CP nsplit rel error xerror xstd\n",
            "1 0.01      0         1      0    0\n",
            "\n",
            "Node number 1: 10 observations\n",
            "  mean=249500, MSE=8.066225e+10 \n",
            "\n"
          ]
        }
      ]
    },
    {
      "cell_type": "code",
      "source": [
        "# Example new levels for which we want to predict salaries\n",
        "new_levels <- data.frame(Level = c(7, 8, 9))  # You can change these values\n",
        "\n",
        "# Predict the salaries for the new levels using the fitted model\n",
        "predicted_salaries <- predict(model, new_levels)\n",
        "\n",
        "# Combine new levels with predicted salaries for better readability\n",
        "result <- data.frame(Level = new_levels$Level, Predicted_Salary = predicted_salaries)\n",
        "\n",
        "# Display the results\n",
        "print(result)\n"
      ],
      "metadata": {
        "colab": {
          "base_uri": "https://localhost:8080/"
        },
        "id": "A9i_VpRk0kPg",
        "outputId": "abd3b321-1187-4a74-9a7e-a6309e2d08e2"
      },
      "execution_count": 10,
      "outputs": [
        {
          "output_type": "stream",
          "name": "stdout",
          "text": [
            "  Level Predicted_Salary\n",
            "1     7           249500\n",
            "2     8           249500\n",
            "3     9           249500\n"
          ]
        }
      ]
    },
    {
      "cell_type": "code",
      "source": [
        "library(ggplot2)\n",
        "\n",
        "# Create a grid of values for Level\n",
        "x_grid = seq(min(data$Level), max(data$Level), 0.01)\n",
        "\n",
        "# Plot the decision tree regression results\n",
        "ggplot() +\n",
        "  geom_point(aes(x = data$Level, y = data$Salary), colour = 'red') +\n",
        "  geom_line(aes(x = x_grid,\n",
        "                y = predict(model, newdata = data.frame(Level = x_grid))),\n",
        "            colour = 'blue') +\n",
        "  ggtitle('Truth or Bluff (Decision Tree Regression)') +\n",
        "  xlab('Level') +\n",
        "  ylab('Salary')\n"
      ],
      "metadata": {
        "colab": {
          "base_uri": "https://localhost:8080/",
          "height": 437
        },
        "id": "d6FsR78Y17jM",
        "outputId": "eda2178e-689a-448d-ad31-9d8b4ccd3206"
      },
      "execution_count": 12,
      "outputs": [
        {
          "output_type": "display_data",
          "data": {
            "text/plain": [
              "plot without title"
            ],
            "image/png": "[encoded data removed]"
          },
          "metadata": {
            "image/png": {
              "width": 420,
              "height": 420
            }
          }
        }
      ]
    },
    {
      "cell_type": "code",
      "source": [
        "# Load the rpart package if not already loaded\n",
        "library(rpart)\n",
        "\n",
        "# Fit the Decision Tree Regression model with control parameters\n",
        "model <- rpart(Salary ~ Level, data = data, control = rpart.control(minsplit = 1))\n",
        "\n",
        "# Plot the decision tree\n",
        "plot(model)\n",
        "\n",
        "# Add text to the tree plot for better understanding\n",
        "text(model, use.n = TRUE, all = TRUE, cex = 0.8)\n",
        "\n"
      ],
      "metadata": {
        "colab": {
          "base_uri": "https://localhost:8080/",
          "height": 437
        },
        "id": "VwDd6veT1umA",
        "outputId": "4d63d3ba-7f11-4648-9021-b4e1252d81e7"
      },
      "execution_count": 16,
      "outputs": [
        {
          "output_type": "display_data",
          "data": {
            "text/plain": [
              "plot without title"
            ],
            "image/png": "[encoded data removed]"
          },
          "metadata": {
            "image/png": {
              "width": 420,
              "height": 420
            }
          }
        }
      ]
    },
    {
      "cell_type": "markdown",
      "source": [
        "**Classification Tree**"
      ],
      "metadata": {
        "id": "y4QW1Mpa4HbQ"
      }
    },
    {
      "cell_type": "code",
      "source": [
        "# Import the dataset\n",
        "data <- read_csv(\"Social_Network_Ads.csv\")\n",
        "\n",
        "# Display the first few rows of the dataset\n",
        "print(head(data))\n"
      ],
      "metadata": {
        "colab": {
          "base_uri": "https://localhost:8080/"
        },
        "id": "D9-cDN8D4G29",
        "outputId": "e785cf30-b3a8-458c-bd48-3fbee9e5853b"
      },
      "execution_count": 26,
      "outputs": [
        {
          "output_type": "stream",
          "name": "stderr",
          "text": [
            "\u001b[1mRows: \u001b[22m\u001b[34m400\u001b[39m \u001b[1mColumns: \u001b[22m\u001b[34m5\u001b[39m\n",
            "\u001b[36m──\u001b[39m \u001b[1mColumn specification\u001b[22m \u001b[36m────────────────────────────────────────────────────────\u001b[39m\n",
            "\u001b[1mDelimiter:\u001b[22m \",\"\n",
            "\u001b[31mchr\u001b[39m (1): Gender\n",
            "\u001b[32mdbl\u001b[39m (4): User ID, Age, EstimatedSalary, Purchased\n",
            "\n",
            "\u001b[36mℹ\u001b[39m Use `spec()` to retrieve the full column specification for this data.\n",
            "\u001b[36mℹ\u001b[39m Specify the column types or set `show_col_types = FALSE` to quiet this message.\n"
          ]
        },
        {
          "output_type": "stream",
          "name": "stdout",
          "text": [
            "\u001b[90m# A tibble: 6 × 5\u001b[39m\n",
            "  `User ID` Gender   Age EstimatedSalary Purchased\n",
            "      \u001b[3m\u001b[90m<dbl>\u001b[39m\u001b[23m \u001b[3m\u001b[90m<chr>\u001b[39m\u001b[23m  \u001b[3m\u001b[90m<dbl>\u001b[39m\u001b[23m           \u001b[3m\u001b[90m<dbl>\u001b[39m\u001b[23m     \u001b[3m\u001b[90m<dbl>\u001b[39m\u001b[23m\n",
            "\u001b[90m1\u001b[39m  15\u001b[4m6\u001b[24m\u001b[4m2\u001b[24m\u001b[4m4\u001b[24m510 Male      19           \u001b[4m1\u001b[24m\u001b[4m9\u001b[24m000         0\n",
            "\u001b[90m2\u001b[39m  15\u001b[4m8\u001b[24m\u001b[4m1\u001b[24m\u001b[4m0\u001b[24m944 Male      35           \u001b[4m2\u001b[24m\u001b[4m0\u001b[24m000         0\n",
            "\u001b[90m3\u001b[39m  15\u001b[4m6\u001b[24m\u001b[4m6\u001b[24m\u001b[4m8\u001b[24m575 Female    26           \u001b[4m4\u001b[24m\u001b[4m3\u001b[24m000         0\n",
            "\u001b[90m4\u001b[39m  15\u001b[4m6\u001b[24m\u001b[4m0\u001b[24m\u001b[4m3\u001b[24m246 Female    27           \u001b[4m5\u001b[24m\u001b[4m7\u001b[24m000         0\n",
            "\u001b[90m5\u001b[39m  15\u001b[4m8\u001b[24m\u001b[4m0\u001b[24m\u001b[4m4\u001b[24m002 Male      19           \u001b[4m7\u001b[24m\u001b[4m6\u001b[24m000         0\n",
            "\u001b[90m6\u001b[39m  15\u001b[4m7\u001b[24m\u001b[4m2\u001b[24m\u001b[4m8\u001b[24m773 Male      27           \u001b[4m5\u001b[24m\u001b[4m8\u001b[24m000         0\n"
          ]
        }
      ]
    },
    {
      "cell_type": "code",
      "source": [
        "# Remove the columns \"Position\" and \"Level\" from the data frame\n",
        "data <- data[, !names(data) %in% c(\"Gender\", \"User ID\")]\n",
        "\n",
        "# Display the cleaned data frame\n",
        "print(head(data))\n"
      ],
      "metadata": {
        "colab": {
          "base_uri": "https://localhost:8080/"
        },
        "id": "tpZLMUKc4WRW",
        "outputId": "cd77e322-5893-4623-ab46-673da3680dab"
      },
      "execution_count": 27,
      "outputs": [
        {
          "output_type": "stream",
          "name": "stdout",
          "text": [
            "\u001b[90m# A tibble: 6 × 3\u001b[39m\n",
            "    Age EstimatedSalary Purchased\n",
            "  \u001b[3m\u001b[90m<dbl>\u001b[39m\u001b[23m           \u001b[3m\u001b[90m<dbl>\u001b[39m\u001b[23m     \u001b[3m\u001b[90m<dbl>\u001b[39m\u001b[23m\n",
            "\u001b[90m1\u001b[39m    19           \u001b[4m1\u001b[24m\u001b[4m9\u001b[24m000         0\n",
            "\u001b[90m2\u001b[39m    35           \u001b[4m2\u001b[24m\u001b[4m0\u001b[24m000         0\n",
            "\u001b[90m3\u001b[39m    26           \u001b[4m4\u001b[24m\u001b[4m3\u001b[24m000         0\n",
            "\u001b[90m4\u001b[39m    27           \u001b[4m5\u001b[24m\u001b[4m7\u001b[24m000         0\n",
            "\u001b[90m5\u001b[39m    19           \u001b[4m7\u001b[24m\u001b[4m6\u001b[24m000         0\n",
            "\u001b[90m6\u001b[39m    27           \u001b[4m5\u001b[24m\u001b[4m8\u001b[24m000         0\n"
          ]
        }
      ]
    },
    {
      "cell_type": "code",
      "source": [
        "# Display the first few rows of the dataset\n",
        "print(head(data))"
      ],
      "metadata": {
        "colab": {
          "base_uri": "https://localhost:8080/"
        },
        "id": "pZbCNgDc8-02",
        "outputId": "7414b456-17a4-45f8-c777-aa320bd0a7e4"
      },
      "execution_count": 25,
      "outputs": [
        {
          "output_type": "stream",
          "name": "stdout",
          "text": [
            "\u001b[90m# A tibble: 6 × 4\u001b[39m\n",
            "  `User ID`   Age EstimatedSalary Purchased\n",
            "      \u001b[3m\u001b[90m<dbl>\u001b[39m\u001b[23m \u001b[3m\u001b[90m<dbl>\u001b[39m\u001b[23m           \u001b[3m\u001b[90m<dbl>\u001b[39m\u001b[23m     \u001b[3m\u001b[90m<dbl>\u001b[39m\u001b[23m\n",
            "\u001b[90m1\u001b[39m  15\u001b[4m6\u001b[24m\u001b[4m2\u001b[24m\u001b[4m4\u001b[24m510    19           \u001b[4m1\u001b[24m\u001b[4m9\u001b[24m000         0\n",
            "\u001b[90m2\u001b[39m  15\u001b[4m8\u001b[24m\u001b[4m1\u001b[24m\u001b[4m0\u001b[24m944    35           \u001b[4m2\u001b[24m\u001b[4m0\u001b[24m000         0\n",
            "\u001b[90m3\u001b[39m  15\u001b[4m6\u001b[24m\u001b[4m6\u001b[24m\u001b[4m8\u001b[24m575    26           \u001b[4m4\u001b[24m\u001b[4m3\u001b[24m000         0\n",
            "\u001b[90m4\u001b[39m  15\u001b[4m6\u001b[24m\u001b[4m0\u001b[24m\u001b[4m3\u001b[24m246    27           \u001b[4m5\u001b[24m\u001b[4m7\u001b[24m000         0\n",
            "\u001b[90m5\u001b[39m  15\u001b[4m8\u001b[24m\u001b[4m0\u001b[24m\u001b[4m4\u001b[24m002    19           \u001b[4m7\u001b[24m\u001b[4m6\u001b[24m000         0\n",
            "\u001b[90m6\u001b[39m  15\u001b[4m7\u001b[24m\u001b[4m2\u001b[24m\u001b[4m8\u001b[24m773    27           \u001b[4m5\u001b[24m\u001b[4m8\u001b[24m000         0\n"
          ]
        }
      ]
    },
    {
      "cell_type": "code",
      "source": [
        "# Convert the 'Purchased' column to a factor\n",
        "data$Purchased <- factor(data$Purchased)\n",
        "\n",
        "# Display the structure of the dataset to verify the change\n",
        "str(data)\n"
      ],
      "metadata": {
        "colab": {
          "base_uri": "https://localhost:8080/"
        },
        "id": "Eml_YSQ49BuW",
        "outputId": "43bcac57-a9fc-478b-ce27-8a247b95894d"
      },
      "execution_count": 28,
      "outputs": [
        {
          "output_type": "stream",
          "name": "stdout",
          "text": [
            "tibble [400 × 3] (S3: tbl_df/tbl/data.frame)\n",
            " $ Age            : num [1:400] 19 35 26 27 19 27 27 32 25 35 ...\n",
            " $ EstimatedSalary: num [1:400] 19000 20000 43000 57000 76000 58000 84000 150000 33000 65000 ...\n",
            " $ Purchased      : Factor w/ 2 levels \"0\",\"1\": 1 1 1 1 1 1 1 2 1 1 ...\n"
          ]
        }
      ]
    },
    {
      "cell_type": "code",
      "source": [
        "# Install caTools package if not already installed\n",
        "install.packages(\"caTools\")\n",
        "\n",
        "# Load the caTools package\n",
        "library(caTools)\n",
        "\n",
        "# Set the seed for reproducibility\n",
        "set.seed(123)\n",
        "\n",
        "# Split the dataset into training and test sets with a 0.75 ratio\n",
        "split <- sample.split(data$Purchased, SplitRatio = 0.75)\n",
        "\n",
        "# Create training and test sets\n",
        "training_set <- subset(data, split == TRUE)\n",
        "test_set <- subset(data, split == FALSE)\n",
        "\n",
        "# Display the dimensions of the training and test sets\n",
        "cat(\"Training set dimensions:\", dim(training_set), \"\\n\")\n",
        "cat(\"Test set dimensions:\", dim(test_set), \"\\n\")\n"
      ],
      "metadata": {
        "colab": {
          "base_uri": "https://localhost:8080/"
        },
        "id": "-VErfZMm92k8",
        "outputId": "2d0de972-520a-46fd-b180-03764a50ab02"
      },
      "execution_count": 29,
      "outputs": [
        {
          "output_type": "stream",
          "name": "stderr",
          "text": [
            "Installing package into ‘/usr/local/lib/R/site-library’\n",
            "(as ‘lib’ is unspecified)\n",
            "\n",
            "also installing the dependency ‘bitops’\n",
            "\n",
            "\n"
          ]
        },
        {
          "output_type": "stream",
          "name": "stdout",
          "text": [
            "Training set dimensions: 300 3 \n",
            "Test set dimensions: 100 3 \n"
          ]
        }
      ]
    },
    {
      "cell_type": "code",
      "source": [
        "# Display the first few rows of the dataset\n",
        "print(head(training_set))\n",
        "\n",
        "# Display the first few rows of the dataset\n",
        "print(head(test_set))"
      ],
      "metadata": {
        "colab": {
          "base_uri": "https://localhost:8080/"
        },
        "id": "3kGP1euz-haZ",
        "outputId": "13c38b20-c8f2-4e4d-a8d2-903c210ec688"
      },
      "execution_count": 32,
      "outputs": [
        {
          "output_type": "stream",
          "name": "stdout",
          "text": [
            "\u001b[90m# A tibble: 6 × 3\u001b[39m\n",
            "    Age EstimatedSalary Purchased\n",
            "  \u001b[3m\u001b[90m<dbl>\u001b[39m\u001b[23m           \u001b[3m\u001b[90m<dbl>\u001b[39m\u001b[23m \u001b[3m\u001b[90m<fct>\u001b[39m\u001b[23m    \n",
            "\u001b[90m1\u001b[39m    19           \u001b[4m1\u001b[24m\u001b[4m9\u001b[24m000 0        \n",
            "\u001b[90m2\u001b[39m    26           \u001b[4m4\u001b[24m\u001b[4m3\u001b[24m000 0        \n",
            "\u001b[90m3\u001b[39m    27           \u001b[4m5\u001b[24m\u001b[4m8\u001b[24m000 0        \n",
            "\u001b[90m4\u001b[39m    27           \u001b[4m8\u001b[24m\u001b[4m4\u001b[24m000 0        \n",
            "\u001b[90m5\u001b[39m    32          \u001b[4m1\u001b[24m\u001b[4m5\u001b[24m\u001b[4m0\u001b[24m000 1        \n",
            "\u001b[90m6\u001b[39m    35           \u001b[4m6\u001b[24m\u001b[4m5\u001b[24m000 0        \n",
            "\u001b[90m# A tibble: 6 × 3\u001b[39m\n",
            "    Age EstimatedSalary Purchased\n",
            "  \u001b[3m\u001b[90m<dbl>\u001b[39m\u001b[23m           \u001b[3m\u001b[90m<dbl>\u001b[39m\u001b[23m \u001b[3m\u001b[90m<fct>\u001b[39m\u001b[23m    \n",
            "\u001b[90m1\u001b[39m    35           \u001b[4m2\u001b[24m\u001b[4m0\u001b[24m000 0        \n",
            "\u001b[90m2\u001b[39m    27           \u001b[4m5\u001b[24m\u001b[4m7\u001b[24m000 0        \n",
            "\u001b[90m3\u001b[39m    19           \u001b[4m7\u001b[24m\u001b[4m6\u001b[24m000 0        \n",
            "\u001b[90m4\u001b[39m    25           \u001b[4m3\u001b[24m\u001b[4m3\u001b[24m000 0        \n",
            "\u001b[90m5\u001b[39m    26           \u001b[4m5\u001b[24m\u001b[4m2\u001b[24m000 0        \n",
            "\u001b[90m6\u001b[39m    45           \u001b[4m2\u001b[24m\u001b[4m6\u001b[24m000 1        \n"
          ]
        }
      ]
    },
    {
      "cell_type": "code",
      "source": [
        "# Install the dplyr package if it is not already installed\n",
        "install.packages(\"dplyr\")\n",
        "\n",
        "# Load the dplyr package\n",
        "library(dplyr)\n",
        "\n",
        "\n",
        "training_set %>% summarise( across( everything(), ~ sum(is.na(.))))\n",
        "\n",
        "test_set %>% summarise( across( everything(), ~ sum(is.na(.))))"
      ],
      "metadata": {
        "colab": {
          "base_uri": "https://localhost:8080/",
          "height": 294
        },
        "id": "JY7nh5pd_epH",
        "outputId": "199b6689-d414-405e-edc2-99d0a103af72"
      },
      "execution_count": 35,
      "outputs": [
        {
          "output_type": "stream",
          "name": "stderr",
          "text": [
            "Installing package into ‘/usr/local/lib/R/site-library’\n",
            "(as ‘lib’ is unspecified)\n",
            "\n"
          ]
        },
        {
          "output_type": "display_data",
          "data": {
            "text/html": [
              "<table class=\"dataframe\">\n",
              "<caption>A tibble: 1 × 3</caption>\n",
              "<thead>\n",
              "\t<tr><th scope=col>Age</th><th scope=col>EstimatedSalary</th><th scope=col>Purchased</th></tr>\n",
              "\t<tr><th scope=col>&lt;int&gt;</th><th scope=col>&lt;int&gt;</th><th scope=col>&lt;int&gt;</th></tr>\n",
              "</thead>\n",
              "<tbody>\n",
              "\t<tr><td>0</td><td>0</td><td>0</td></tr>\n",
              "</tbody>\n",
              "</table>\n"
            ],
            "text/markdown": "\nA tibble: 1 × 3\n\n| Age &lt;int&gt; | EstimatedSalary &lt;int&gt; | Purchased &lt;int&gt; |\n|---|---|---|\n| 0 | 0 | 0 |\n\n",
            "text/latex": "A tibble: 1 × 3\n\\begin{tabular}{lll}\n Age & EstimatedSalary & Purchased\\\\\n <int> & <int> & <int>\\\\\n\\hline\n\t 0 & 0 & 0\\\\\n\\end{tabular}\n",
            "text/plain": [
              "  Age EstimatedSalary Purchased\n",
              "1 0   0               0        "
            ]
          },
          "metadata": {}
        },
        {
          "output_type": "display_data",
          "data": {
            "text/html": [
              "<table class=\"dataframe\">\n",
              "<caption>A tibble: 1 × 3</caption>\n",
              "<thead>\n",
              "\t<tr><th scope=col>Age</th><th scope=col>EstimatedSalary</th><th scope=col>Purchased</th></tr>\n",
              "\t<tr><th scope=col>&lt;int&gt;</th><th scope=col>&lt;int&gt;</th><th scope=col>&lt;int&gt;</th></tr>\n",
              "</thead>\n",
              "<tbody>\n",
              "\t<tr><td>0</td><td>0</td><td>0</td></tr>\n",
              "</tbody>\n",
              "</table>\n"
            ],
            "text/markdown": "\nA tibble: 1 × 3\n\n| Age &lt;int&gt; | EstimatedSalary &lt;int&gt; | Purchased &lt;int&gt; |\n|---|---|---|\n| 0 | 0 | 0 |\n\n",
            "text/latex": "A tibble: 1 × 3\n\\begin{tabular}{lll}\n Age & EstimatedSalary & Purchased\\\\\n <int> & <int> & <int>\\\\\n\\hline\n\t 0 & 0 & 0\\\\\n\\end{tabular}\n",
            "text/plain": [
              "  Age EstimatedSalary Purchased\n",
              "1 0   0               0        "
            ]
          },
          "metadata": {}
        }
      ]
    },
    {
      "cell_type": "code",
      "source": [
        "# Display the structure of the training and test sets\n",
        "cat(\"Training set structure:\\n\")\n",
        "str(training_set)\n",
        "\n",
        "cat(\"\\nTest set structure:\\n\")\n",
        "str(test_set)\n",
        "\n",
        "# Scale the features of the training set (excluding the target variable)\n",
        "training_set_scaled <- training_set\n",
        "training_set_scaled[, -which(names(training_set) == \"Purchased\")] <- scale(training_set[, -which(names(training_set) == \"Purchased\")])\n",
        "\n",
        "# Scale the features of the test set without specifying center and scale\n",
        "test_set_scaled <- test_set\n",
        "test_set_scaled[, -which(names(test_set) == \"Purchased\")] <- scale(test_set[, -which(names(test_set) == \"Purchased\")])\n",
        "\n",
        "# Check if the scaling applied correctly\n",
        "cat(\"Scaled Training Set:\\n\")\n",
        "print(head(training_set_scaled))\n",
        "\n",
        "cat(\"\\nScaled Test Set:\\n\")\n",
        "print(head(test_set_scaled))\n"
      ],
      "metadata": {
        "colab": {
          "base_uri": "https://localhost:8080/"
        },
        "id": "5b5qtiws-Dnu",
        "outputId": "cf407313-b928-401e-aded-9a9624521d28"
      },
      "execution_count": 39,
      "outputs": [
        {
          "output_type": "stream",
          "name": "stdout",
          "text": [
            "Training set structure:\n",
            "tibble [300 × 3] (S3: tbl_df/tbl/data.frame)\n",
            " $ Age            : num [1:300] 19 26 27 27 32 35 26 20 32 18 ...\n",
            " $ EstimatedSalary: num [1:300] 19000 43000 58000 84000 150000 65000 80000 86000 18000 82000 ...\n",
            " $ Purchased      : Factor w/ 2 levels \"0\",\"1\": 1 1 1 1 2 1 1 1 1 1 ...\n",
            "\n",
            "Test set structure:\n",
            "tibble [100 × 3] (S3: tbl_df/tbl/data.frame)\n",
            " $ Age            : num [1:100] 35 27 19 25 26 45 46 48 47 29 ...\n",
            " $ EstimatedSalary: num [1:100] 20000 57000 76000 33000 52000 26000 28000 29000 49000 43000 ...\n",
            " $ Purchased      : Factor w/ 2 levels \"0\",\"1\": 1 1 1 1 1 2 2 2 2 1 ...\n",
            "Scaled Training Set:\n",
            "\u001b[90m# A tibble: 6 × 3\u001b[39m\n",
            "     Age EstimatedSalary Purchased\n",
            "   \u001b[3m\u001b[90m<dbl>\u001b[39m\u001b[23m           \u001b[3m\u001b[90m<dbl>\u001b[39m\u001b[23m \u001b[3m\u001b[90m<fct>\u001b[39m\u001b[23m    \n",
            "\u001b[90m1\u001b[39m -\u001b[31m1\u001b[39m\u001b[31m.\u001b[39m\u001b[31m77\u001b[39m           -\u001b[31m1\u001b[39m\u001b[31m.\u001b[39m\u001b[31m47\u001b[39m  0        \n",
            "\u001b[90m2\u001b[39m -\u001b[31m1\u001b[39m\u001b[31m.\u001b[39m\u001b[31m10\u001b[39m           -\u001b[31m0\u001b[39m\u001b[31m.\u001b[39m\u001b[31m788\u001b[39m 0        \n",
            "\u001b[90m3\u001b[39m -\u001b[31m1\u001b[39m\u001b[31m.\u001b[39m\u001b[31m00\u001b[39m           -\u001b[31m0\u001b[39m\u001b[31m.\u001b[39m\u001b[31m360\u001b[39m 0        \n",
            "\u001b[90m4\u001b[39m -\u001b[31m1\u001b[39m\u001b[31m.\u001b[39m\u001b[31m00\u001b[39m            0.382 0        \n",
            "\u001b[90m5\u001b[39m -\u001b[31m0\u001b[39m\u001b[31m.\u001b[39m\u001b[31m523\u001b[39m           2.27  1        \n",
            "\u001b[90m6\u001b[39m -\u001b[31m0\u001b[39m\u001b[31m.\u001b[39m\u001b[31m236\u001b[39m          -\u001b[31m0\u001b[39m\u001b[31m.\u001b[39m\u001b[31m160\u001b[39m 0        \n",
            "\n",
            "Scaled Test Set:\n",
            "\u001b[90m# A tibble: 6 × 3\u001b[39m\n",
            "     Age EstimatedSalary Purchased\n",
            "   \u001b[3m\u001b[90m<dbl>\u001b[39m\u001b[23m           \u001b[3m\u001b[90m<dbl>\u001b[39m\u001b[23m \u001b[3m\u001b[90m<fct>\u001b[39m\u001b[23m    \n",
            "\u001b[90m1\u001b[39m -\u001b[31m0\u001b[39m\u001b[31m.\u001b[39m\u001b[31m304\u001b[39m          -\u001b[31m1\u001b[39m\u001b[31m.\u001b[39m\u001b[31m51\u001b[39m  0        \n",
            "\u001b[90m2\u001b[39m -\u001b[31m1\u001b[39m\u001b[31m.\u001b[39m\u001b[31m0\u001b[39m\u001b[31m6\u001b[39m           -\u001b[31m0\u001b[39m\u001b[31m.\u001b[39m\u001b[31m325\u001b[39m 0        \n",
            "\u001b[90m3\u001b[39m -\u001b[31m1\u001b[39m\u001b[31m.\u001b[39m\u001b[31m82\u001b[39m            0.286 0        \n",
            "\u001b[90m4\u001b[39m -\u001b[31m1\u001b[39m\u001b[31m.\u001b[39m\u001b[31m25\u001b[39m           -\u001b[31m1\u001b[39m\u001b[31m.\u001b[39m\u001b[31m10\u001b[39m  0        \n",
            "\u001b[90m5\u001b[39m -\u001b[31m1\u001b[39m\u001b[31m.\u001b[39m\u001b[31m15\u001b[39m           -\u001b[31m0\u001b[39m\u001b[31m.\u001b[39m\u001b[31m485\u001b[39m 0        \n",
            "\u001b[90m6\u001b[39m  0.641          -\u001b[31m1\u001b[39m\u001b[31m.\u001b[39m\u001b[31m32\u001b[39m  1        \n"
          ]
        }
      ]
    },
    {
      "cell_type": "code",
      "source": [
        "# Install and load required packages\n",
        "install.packages(\"rpart\")\n",
        "install.packages(\"rpart.plot\")\n",
        "\n",
        "library(rpart)\n",
        "library(rpart.plot)\n",
        "\n",
        "# Fit the decision tree classifier on the training set\n",
        "decision_tree_model <- rpart(Purchased ~ ., data = training_set_scaled, method = \"class\")\n",
        "\n",
        "# Plot the decision tree\n",
        "rpart.plot(decision_tree_model)\n",
        "\n",
        "# Predict on the test set\n",
        "predictions <- predict(decision_tree_model, newdata = test_set_scaled, type = \"class\")\n",
        "\n",
        "# Display the predictions\n",
        "cat(\"Predictions on the test set:\\n\")\n",
        "print(predictions)\n",
        "\n",
        "Compare the predictions with actual values\n",
        "comparison <- data.frame(Actual = test_set_scaled$Purchased, Predicted = predictions)\n",
        "cat(\"\\nComparison of actual and predicted values:\\n\")\n",
        "print(head(comparison))\n"
      ],
      "metadata": {
        "colab": {
          "base_uri": "https://localhost:8080/",
          "height": 906
        },
        "id": "8HomYJIv-OTj",
        "outputId": "09957ddc-4ac7-479a-d334-2b3e0e524175"
      },
      "execution_count": 40,
      "outputs": [
        {
          "output_type": "stream",
          "name": "stderr",
          "text": [
            "Installing package into ‘/usr/local/lib/R/site-library’\n",
            "(as ‘lib’ is unspecified)\n",
            "\n",
            "Installing package into ‘/usr/local/lib/R/site-library’\n",
            "(as ‘lib’ is unspecified)\n",
            "\n"
          ]
        },
        {
          "output_type": "stream",
          "name": "stdout",
          "text": [
            "Predictions on the test set:\n",
            "  1   2   3   4   5   6   7   8   9  10  11  12  13  14  15  16  17  18  19  20 \n",
            "  0   0   0   0   0   0   1   1   0   0   1   0   1   0   0   0   0   0   0   0 \n",
            " 21  22  23  24  25  26  27  28  29  30  31  32  33  34  35  36  37  38  39  40 \n",
            "  1   0   0   1   0   1   0   0   1   1   0   1   1   0   0   0   0   0   0   0 \n",
            " 41  42  43  44  45  46  47  48  49  50  51  52  53  54  55  56  57  58  59  60 \n",
            "  0   0   0   0   1   0   0   0   0   0   0   0   1   1   1   0   1   0   0   1 \n",
            " 61  62  63  64  65  66  67  68  69  70  71  72  73  74  75  76  77  78  79  80 \n",
            "  1   0   1   1   0   0   1   1   1   1   1   1   1   0   0   0   1   0   0   1 \n",
            " 81  82  83  84  85  86  87  88  89  90  91  92  93  94  95  96  97  98  99 100 \n",
            "  0   1   0   1   0   1   1   0   0   1   1   0   1   0   1   1   1   1   0   1 \n",
            "Levels: 0 1\n",
            "\n",
            "Comparison of actual and predicted values:\n",
            "  Actual Predicted\n",
            "1      0         0\n",
            "2      0         0\n",
            "3      0         0\n",
            "4      0         0\n",
            "5      0         0\n",
            "6      1         0\n"
          ]
        },
        {
          "output_type": "display_data",
          "data": {
            "text/plain": [
              "plot without title"
            ],
            "image/png": "[encoded data removed]"
          },
          "metadata": {
            "image/png": {
              "width": 420,
              "height": 420
            }
          }
        }
      ]
    },
    {
      "cell_type": "code",
      "source": [
        "# Create the confusion matrix\n",
        "confusion_matrix <- table(Actual = test_set_scaled$Purchased, Predicted = predictions)\n",
        "\n",
        "# Display the confusion matrix\n",
        "cat(\"Confusion Matrix:\\n\")\n",
        "print(confusion_matrix)\n"
      ],
      "metadata": {
        "colab": {
          "base_uri": "https://localhost:8080/"
        },
        "id": "AcWNElhpCoyN",
        "outputId": "b2041383-d335-429c-bfe1-78326a5e8901"
      },
      "execution_count": 42,
      "outputs": [
        {
          "output_type": "stream",
          "name": "stdout",
          "text": [
            "Confusion Matrix:\n",
            "      Predicted\n",
            "Actual  0  1\n",
            "     0 53 11\n",
            "     1  6 30\n"
          ]
        }
      ]
    },
    {
      "cell_type": "markdown",
      "source": [
        "### Explanation of the Structure of a Confusion Matrix:\n",
        "\n",
        "A confusion matrix is a tabular representation of the actual versus predicted classifications, typically structured as follows:\n",
        "\n",
        "|                 | Predicted Positive | Predicted Negative |\n",
        "|-----------------|--------------------|--------------------|\n",
        "| **Actual Positive**   | True Positive (TP)    | False Negative (FN)     |\n",
        "| **Actual Negative**   | False Positive (FP)   | True Negative (TN)      |\n",
        "\n",
        "- **True Positive (TP)**: The number of instances correctly predicted as positive.\n",
        "- **True Negative (TN)**: The number of instances correctly predicted as negative.\n",
        "- **False Positive (FP)**: The number of instances incorrectly predicted as positive (Type I error).\n",
        "- **False Negative (FN)**: The number of instances incorrectly predicted as negative (Type II error).\n",
        "\n",
        "### (a) How to Read a Confusion Matrix:\n",
        "\n",
        "To read a confusion matrix:\n",
        "\n",
        "1. **Rows represent Actual Values**: The rows indicate the true classes of the observations.\n",
        "2. **Columns represent Predicted Values**: The columns indicate the predicted classes by the model.\n",
        "3. **Diagonal Values**: The diagonal values (TP and TN) indicate the correct predictions.\n",
        "4. **Off-Diagonal Values**: The off-diagonal values (FP and FN) indicate the incorrect predictions.\n",
        "\n",
        "\n",
        "\n",
        "### (b) What Can You Derive from It:\n",
        "\n",
        "From a confusion matrix, you can derive several important metrics:\n",
        "\n",
        "1. **Accuracy**: The overall correctness of the model.\n",
        "   [\n",
        "   Accuracy = {TP + TN}/{TP + TN + FP + FN}\n",
        "   ]\n",
        "\n",
        "2. **Precision**: The ratio of true positives to the total predicted positives.\n",
        "   [\n",
        "  Precision = {TP}/{TP + FP}\n",
        "   ]\n",
        "\n",
        "3. **Recall (Sensitivity)**: The ratio of true positives to the total actual positives.\n",
        "   [\n",
        "   Recall = {TP}/{TP + FN}\n",
        "   ]\n",
        "\n",
        "4. **F1 Score**: The harmonic mean of precision and recall.\n",
        "   [ F1 Score = 2 . {Precision} . {Recall}}/{Precision} +{Recall}}\n",
        "   ]\n",
        "\n",
        "5. **Specificity**: The ratio of true negatives to the total actual negatives.\n",
        "   [\n",
        "   Specificity = {TN}/{TN + FP}\n",
        "   ]\n",
        "\n",
        "6. **Error Rate**: The proportion of all incorrect predictions.\n",
        "   [\n",
        "  Error Rate = {FP + FN}/{TP + TN + FP + FN}\n",
        "   ]\n",
        "\n"
      ],
      "metadata": {
        "id": "Z9Vj3OqAFA4j"
      }
    },
    {
      "cell_type": "code",
      "source": [
        "# Install and Load the necessary library\n",
        "install.packages(\"ElemStatLearn\")\n",
        "\n",
        "library(ElemStatLearn)\n",
        "\n",
        "# Use the training set\n",
        "set = training_set_scaled  # Make sure to use the scaled training set\n",
        "\n",
        "# Create a sequence for Age (X1) and Estimated Salary (X2)\n",
        "X1 = seq(min(set[, 1]) - 1, max(set[, 1]) + 1, by = 0.01)\n",
        "X2 = seq(min(set[, 2]) - 1, max(set[, 2]) + 1, by = 0.01)\n",
        "\n",
        "# Create a grid of all combinations of Age and Estimated Salary\n",
        "grid_set = expand.grid(X1, X2)\n",
        "colnames(grid_set) = c('Age', 'EstimatedSalary')\n",
        "\n",
        "# Predict the class for each point in the grid\n",
        "y_grid = predict(decision_tree_model, newdata = grid_set, type = 'class')\n",
        "\n",
        "# Plot the training set results\n",
        "plot(set[, -3],\n",
        "     main = 'Decision Tree Classification (Training set)',\n",
        "     xlab = 'Age',\n",
        "     ylab = 'Estimated Salary',\n",
        "     xlim = range(X1),\n",
        "     ylim = range(X2))\n",
        "\n",
        "# Add the contour of the decision boundary\n",
        "contour(X1, X2, matrix(as.numeric(y_grid), length(X1), length(X2)), add = TRUE)\n",
        "\n",
        "# Add the points from the grid to the plot\n",
        "points(grid_set, pch = '.', col = ifelse(y_grid == 1, 'springgreen3', 'tomato'))\n",
        "\n",
        "# Add the actual training set points to the plot\n",
        "points(set, pch = 21, bg = ifelse(set[, 3] == 1, 'green4', 'red3'))\n"
      ],
      "metadata": {
        "colab": {
          "base_uri": "https://localhost:8080/",
          "height": 263
        },
        "id": "WYcjzbVTE2vI",
        "outputId": "49a79724-7647-4d12-b252-8953a035a92a"
      },
      "execution_count": 47,
      "outputs": [
        {
          "output_type": "stream",
          "name": "stderr",
          "text": [
            "Installing package into ‘/usr/local/lib/R/site-library’\n",
            "(as ‘lib’ is unspecified)\n",
            "\n",
            "Warning message:\n",
            "“package ‘ElemStatLearn’ is not available for this version of R\n",
            "\n",
            "A version of this package for your version of R might be available elsewhere,\n",
            "see the ideas at\n",
            "https://cran.r-project.org/doc/manuals/r-patched/R-admin.html#Installing-packages”\n"
          ]
        },
        {
          "output_type": "error",
          "ename": "ERROR",
          "evalue": "Error in library(ElemStatLearn): there is no package called ‘ElemStatLearn’\n",
          "traceback": [
            "Error in library(ElemStatLearn): there is no package called ‘ElemStatLearn’\nTraceback:\n",
            "1. stop(packageNotFoundError(package, lib.loc, sys.call()))"
          ]
        }
      ]
    },
    {
      "cell_type": "code",
      "source": [
        "# Load the necessary library\n",
        "library(ElemStatLearn)\n",
        "\n",
        "# Use the test set\n",
        "set = test_set_scaled  # Ensure you are using the scaled test set\n",
        "\n",
        "# Create a sequence for Age (X1) and Estimated Salary (X2)\n",
        "X1 = seq(min(set[, 1]) - 1, max(set[, 1]) + 1, by = 0.01)\n",
        "X2 = seq(min(set[, 2]) - 1, max(set[, 2]) + 1, by = 0.01)\n",
        "\n",
        "# Create a grid of all combinations of Age and Estimated Salary\n",
        "grid_set = expand.grid(X1, X2)\n",
        "colnames(grid_set) = c('Age', 'EstimatedSalary')\n",
        "\n",
        "# Predict the class for each point in the grid\n",
        "y_grid = predict(classifier, newdata = grid_set, type = 'class')\n",
        "\n",
        "# Plot the test set results\n",
        "plot(set[, -3],\n",
        "     main = 'Decision Tree Classification (Test set)',\n",
        "     xlab = 'Age',\n",
        "     ylab = 'Estimated Salary',\n",
        "     xlim = range(X1),\n",
        "     ylim = range(X2))\n",
        "\n",
        "# Add the contour of the decision boundary\n",
        "contour(X1, X2, matrix(as.numeric(y_grid), length(X1), length(X2)), add = TRUE)\n",
        "\n",
        "# Add the points from the grid to the plot\n",
        "points(grid_set, pch = '.', col = ifelse(y_grid == 1, 'springgreen3', 'tomato'))\n",
        "\n",
        "# Add the actual test set points to the plot\n",
        "points(set, pch = 21, bg = ifelse(set[, 3] == 1, 'green4', 'red3'))\n"
      ],
      "metadata": {
        "colab": {
          "base_uri": "https://localhost:8080/",
          "height": 106
        },
        "id": "82mfzC5oGHFn",
        "outputId": "9881ea6d-10ef-4be0-ef98-4b29a80ad1da"
      },
      "execution_count": 46,
      "outputs": [
        {
          "output_type": "error",
          "ename": "ERROR",
          "evalue": "Error in library(ElemStatLearn): there is no package called ‘ElemStatLearn’\n",
          "traceback": [
            "Error in library(ElemStatLearn): there is no package called ‘ElemStatLearn’\nTraceback:\n",
            "1. stop(packageNotFoundError(package, lib.loc, sys.call()))"
          ]
        }
      ]
    },
    {
      "cell_type": "code",
      "source": [],
      "metadata": {
        "id": "DICRFcVNGs1A"
      },
      "execution_count": null,
      "outputs": []
    }
  ]
}